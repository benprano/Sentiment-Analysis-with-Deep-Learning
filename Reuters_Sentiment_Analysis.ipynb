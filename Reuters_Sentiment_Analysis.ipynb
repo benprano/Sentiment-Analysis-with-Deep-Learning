{
 "cells": [
  {
   "cell_type": "markdown",
   "metadata": {},
   "source": [
    "# Import Dependencies"
   ]
  },
  {
   "cell_type": "code",
   "execution_count": 1,
   "metadata": {},
   "outputs": [
    {
     "name": "stderr",
     "output_type": "stream",
     "text": [
      "Using TensorFlow backend.\n"
     ]
    }
   ],
   "source": [
    "%matplotlib inline\n",
    "import matplotlib\n",
    "import matplotlib.pyplot as plt\n",
    "\n",
    "import numpy as np\n",
    "from keras.utils import to_categorical\n",
    "from keras import models\n",
    "from keras import layers"
   ]
  },
  {
   "cell_type": "markdown",
   "metadata": {},
   "source": [
    "# Getting the Data"
   ]
  },
  {
   "cell_type": "code",
   "execution_count": 2,
   "metadata": {
    "collapsed": true
   },
   "outputs": [],
   "source": [
    "from keras.datasets import reuters\n",
    "(train_data, train_labels), (test_data, test_labels) = reuters.load_data(num_words=10000)"
   ]
  },
  {
   "cell_type": "markdown",
   "metadata": {},
   "source": [
    "# Exploring the Data"
   ]
  },
  {
   "cell_type": "code",
   "execution_count": 3,
   "metadata": {},
   "outputs": [
    {
     "name": "stdout",
     "output_type": "stream",
     "text": [
      "Categories: [ 0  1  2  3  4  5  6  7  8  9 10 11 12 13 14 15 16 17 18 19 20 21 22 23 24\n",
      " 25 26 27 28 29 30 31 32 33 34 35 36 37 38 39 40 41 42 43 44 45]\n"
     ]
    }
   ],
   "source": [
    "# printing the categories we have to predict\n",
    "print(\"Categories:\", np.unique(train_labels))"
   ]
  },
  {
   "cell_type": "code",
   "execution_count": 4,
   "metadata": {},
   "outputs": [
    {
     "name": "stdout",
     "output_type": "stream",
     "text": [
      "Number of unique words: 9982\n"
     ]
    }
   ],
   "source": [
    "print(\"Number of unique words:\", len(np.unique(np.hstack(train_data))))"
   ]
  },
  {
   "cell_type": "code",
   "execution_count": 5,
   "metadata": {},
   "outputs": [
    {
     "name": "stdout",
     "output_type": "stream",
     "text": [
      "Average Review length: 145.539857493\n",
      "Standard Deviation: 146.0\n"
     ]
    }
   ],
   "source": [
    "length = [len(i) for i in train_data]\n",
    "print(\"Average Review length:\", np.mean(length))\n",
    "print(\"Standard Deviation:\", round(np.std(length)))"
   ]
  },
  {
   "cell_type": "code",
   "execution_count": 6,
   "metadata": {},
   "outputs": [
    {
     "name": "stdout",
     "output_type": "stream",
     "text": [
      "Label: 3\n"
     ]
    }
   ],
   "source": [
    "# taking a look at a single training example\n",
    "print(\"Label:\", train_labels[0])"
   ]
  },
  {
   "cell_type": "code",
   "execution_count": 7,
   "metadata": {},
   "outputs": [
    {
     "name": "stdout",
     "output_type": "stream",
     "text": [
      "[1, 2, 2, 8, 43, 10, 447, 5, 25, 207, 270, 5, 3095, 111, 16, 369, 186, 90, 67, 7, 89, 5, 19, 102, 6, 19, 124, 15, 90, 67, 84, 22, 482, 26, 7, 48, 4, 49, 8, 864, 39, 209, 154, 6, 151, 6, 83, 11, 15, 22, 155, 11, 15, 7, 48, 9, 4579, 1005, 504, 6, 258, 6, 272, 11, 15, 22, 134, 44, 11, 15, 16, 8, 197, 1245, 90, 67, 52, 29, 209, 30, 32, 132, 6, 109, 15, 17, 12]\n"
     ]
    }
   ],
   "source": [
    "print(train_data[0])"
   ]
  },
  {
   "cell_type": "code",
   "execution_count": 8,
   "metadata": {},
   "outputs": [
    {
     "name": "stdout",
     "output_type": "stream",
     "text": [
      "? generale de banque sa lt ? br and lt heller overseas corp of chicago have each taken 50 pct stakes in ? company sa ? factors generale de banque said in a statement it gave no financial details of the transaction sa ? ? turnover in 1986 was 17 5 billion belgian francs reuter 3\n"
     ]
    }
   ],
   "source": [
    "#show the actual words\n",
    "word_index = reuters.get_word_index()\n",
    "reverse_word_index = dict([(value, key) for (key, value) in word_index.items()])\n",
    "decoded_review = \" \".join([reverse_word_index.get(i - 3 ,\"?\") for i in train_data[1]])\n",
    "print(decoded_review)"
   ]
  },
  {
   "cell_type": "markdown",
   "metadata": {},
   "source": [
    "# Preparing the Data"
   ]
  },
  {
   "cell_type": "code",
   "execution_count": 9,
   "metadata": {},
   "outputs": [],
   "source": [
    "def vectorize_sequences(sequences, dimension=10000):\n",
    "    #creating a numpy array \n",
    "    results = np.zeros((len(sequences), dimension))\n",
    "    for i , sequence in enumerate(sequences):\n",
    "        results[i, sequence] = 1\n",
    "    return results\n",
    "\n",
    "x_train = vectorize_sequences(train_data)\n",
    "x_test = vectorize_sequences(test_data)"
   ]
  },
  {
   "cell_type": "code",
   "execution_count": 10,
   "metadata": {},
   "outputs": [],
   "source": [
    "#transform categories into numpy floats\n",
    "y_train = np.array(train_labels).astype(\"float32\")\n",
    "y_test = np.array(test_labels).astype(\"float32\")"
   ]
  },
  {
   "cell_type": "code",
   "execution_count": 11,
   "metadata": {
    "collapsed": true
   },
   "outputs": [],
   "source": [
    "# Converts integers to binary class matrix\n",
    "y_train = to_categorical(train_labels)\n",
    "y_test = to_categorical(test_labels)"
   ]
  },
  {
   "cell_type": "markdown",
   "metadata": {},
   "source": [
    "# Building the Model"
   ]
  },
  {
   "cell_type": "code",
   "execution_count": 12,
   "metadata": {},
   "outputs": [
    {
     "name": "stdout",
     "output_type": "stream",
     "text": [
      "_________________________________________________________________\n",
      "Layer (type)                 Output Shape              Param #   \n",
      "=================================================================\n",
      "dense_1 (Dense)              (None, 16)                160016    \n",
      "_________________________________________________________________\n",
      "dropout_1 (Dropout)          (None, 16)                0         \n",
      "_________________________________________________________________\n",
      "dense_2 (Dense)              (None, 55)                935       \n",
      "_________________________________________________________________\n",
      "dropout_2 (Dropout)          (None, 55)                0         \n",
      "_________________________________________________________________\n",
      "dense_3 (Dense)              (None, 85)                4760      \n",
      "_________________________________________________________________\n",
      "dense_4 (Dense)              (None, 85)                7310      \n",
      "_________________________________________________________________\n",
      "dense_5 (Dense)              (None, 85)                7310      \n",
      "_________________________________________________________________\n",
      "dropout_3 (Dropout)          (None, 85)                0         \n",
      "_________________________________________________________________\n",
      "dense_6 (Dense)              (None, 55)                4730      \n",
      "_________________________________________________________________\n",
      "dropout_4 (Dropout)          (None, 55)                0         \n",
      "_________________________________________________________________\n",
      "dense_7 (Dense)              (None, 16)                896       \n",
      "_________________________________________________________________\n",
      "dense_8 (Dense)              (None, 46)                782       \n",
      "=================================================================\n",
      "Total params: 186,739\n",
      "Trainable params: 186,739\n",
      "Non-trainable params: 0\n",
      "_________________________________________________________________\n"
     ]
    }
   ],
   "source": [
    "model = models.Sequential()\n",
    "\n",
    "# Input-Layer\n",
    "model.add(layers.Dense(16,activation=\"relu\",input_shape=(10000,)))\n",
    "\n",
    "# Hidden-Layers\n",
    "model.add(layers.Dropout(0.2, noise_shape=None, seed=None))\n",
    "model.add(layers.Dense(55,activation=\"relu\"))\n",
    "model.add(layers.Dropout(0.4, noise_shape=None, seed=None))\n",
    "model.add(layers.Dense(85,activation=\"relu\"))\n",
    "model.add(layers.Dense(85,activation=\"relu\"))\n",
    "model.add(layers.Dense(85,activation=\"relu\"))\n",
    "model.add(layers.Dropout(0.4, noise_shape=None, seed=None))\n",
    "model.add(layers.Dense(55,activation=\"relu\"))\n",
    "model.add(layers.Dropout(0.2, noise_shape=None, seed=None))\n",
    "model.add(layers.Dense(16,activation=\"relu\"))\n",
    "\n",
    "# Output-Layer\n",
    "model.add(layers.Dense(46, activation=\"softmax\"))\n",
    "\n",
    "model.summary()"
   ]
  },
  {
   "cell_type": "code",
   "execution_count": 13,
   "metadata": {
    "collapsed": true
   },
   "outputs": [],
   "source": [
    "model.compile(\n",
    "    optimizer=\"rmsprop\",\n",
    "    loss=\"binary_crossentropy\",\n",
    "    metrics=[\"accuracy\"] \n",
    ")"
   ]
  },
  {
   "cell_type": "code",
   "execution_count": 14,
   "metadata": {
    "collapsed": true
   },
   "outputs": [],
   "source": [
    "# creating validation set\n",
    "x_val = x_train[:4000]\n",
    "partial_x_train = x_train[4000:]\n",
    "y_val = y_train[:4000]\n",
    "partial_y_train = y_train[4000:]"
   ]
  },
  {
   "cell_type": "markdown",
   "metadata": {},
   "source": [
    "# Training the Model"
   ]
  },
  {
   "cell_type": "code",
   "execution_count": 15,
   "metadata": {},
   "outputs": [
    {
     "name": "stdout",
     "output_type": "stream",
     "text": [
      "Train on 4982 samples, validate on 4000 samples\n",
      "Epoch 1/10\n",
      "4982/4982 [==============================] - 2s 345us/step - loss: 0.0970 - acc: 0.9787 - val_loss: 0.0791 - val_acc: 0.9825\n",
      "Epoch 2/10\n",
      "4982/4982 [==============================] - 1s 152us/step - loss: 0.0720 - acc: 0.9839 - val_loss: 0.0632 - val_acc: 0.9848\n",
      "Epoch 3/10\n",
      "4982/4982 [==============================] - 1s 151us/step - loss: 0.0590 - acc: 0.9860 - val_loss: 0.0572 - val_acc: 0.9867\n",
      "Epoch 4/10\n",
      "4982/4982 [==============================] - 1s 151us/step - loss: 0.0530 - acc: 0.9876 - val_loss: 0.0550 - val_acc: 0.9881\n",
      "Epoch 5/10\n",
      "4982/4982 [==============================] - 1s 119us/step - loss: 0.0504 - acc: 0.9882 - val_loss: 0.0542 - val_acc: 0.9882\n",
      "Epoch 6/10\n",
      "4982/4982 [==============================] - 1s 116us/step - loss: 0.0478 - acc: 0.9887 - val_loss: 0.0530 - val_acc: 0.9882\n",
      "Epoch 7/10\n",
      "4982/4982 [==============================] - 1s 116us/step - loss: 0.0464 - acc: 0.9889 - val_loss: 0.0533 - val_acc: 0.9882\n",
      "Epoch 8/10\n",
      "4982/4982 [==============================] - 1s 116us/step - loss: 0.0445 - acc: 0.9891 - val_loss: 0.0526 - val_acc: 0.9881\n",
      "Epoch 9/10\n",
      "4982/4982 [==============================] - 1s 144us/step - loss: 0.0432 - acc: 0.9892 - val_loss: 0.0528 - val_acc: 0.9879\n",
      "Epoch 10/10\n",
      "4982/4982 [==============================] - 1s 143us/step - loss: 0.0420 - acc: 0.9891 - val_loss: 0.0527 - val_acc: 0.9882\n"
     ]
    }
   ],
   "source": [
    "history = model.fit(\n",
    "partial_x_train, partial_y_train,\n",
    "epochs=10,\n",
    "batch_size=512,\n",
    "validation_data=(x_val,y_val)\n",
    ")"
   ]
  },
  {
   "cell_type": "markdown",
   "metadata": {},
   "source": [
    "# Evaluation"
   ]
  },
  {
   "cell_type": "code",
   "execution_count": 16,
   "metadata": {},
   "outputs": [
    {
     "data": {
      "image/png": "[encoded data removed]",
      "text/plain": [
       "<matplotlib.figure.Figure at 0x1820745438>"
      ]
     },
     "metadata": {},
     "output_type": "display_data"
    }
   ],
   "source": [
    "history_dict = history.history\n",
    "loss_values = history_dict[\"loss\"]\n",
    "\n",
    "plt.clf()\n",
    "\n",
    "acc_values = history_dict[\"acc\"]\n",
    "val_acc_values = history_dict[\"val_acc\"]\n",
    "\n",
    "epochs = range(1, len(loss_values) + 1)\n",
    "\n",
    "plt.plot(epochs, acc_values, label = \"training accuracy\")\n",
    "plt.plot(epochs, val_acc_values, label =\"Validation accuracy\")\n",
    "plt.legend()\n",
    "plt.show()"
   ]
  },
  {
   "cell_type": "code",
   "execution_count": 17,
   "metadata": {},
   "outputs": [
    {
     "name": "stdout",
     "output_type": "stream",
     "text": [
      "Validation Accuracy: 0.98709260993\n"
     ]
    }
   ],
   "source": [
    "print(\"Validation Accuracy:\", np.mean(val_acc_values))"
   ]
  }
 ],
 "metadata": {
  "kernelspec": {
   "display_name": "Python 3",
   "language": "python",
   "name": "python3"
  },
  "language_info": {
   "codemirror_mode": {
    "name": "ipython",
    "version": 3
   },
   "file_extension": ".py",
   "mimetype": "text/x-python",
   "name": "python",
   "nbconvert_exporter": "python",
   "pygments_lexer": "ipython3",
   "version": "3.6.3"
  }
 },
 "nbformat": 4,
 "nbformat_minor": 2
}
